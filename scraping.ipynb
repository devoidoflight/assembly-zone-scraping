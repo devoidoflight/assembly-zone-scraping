{
 "cells": [
  {
   "cell_type": "code",
   "execution_count": 23,
   "metadata": {},
   "outputs": [
    {
     "name": "stdout",
     "output_type": "stream",
     "text": [
      "{\"features\":[{\"geometry\":{\"coordinates\":[[[29.098392152,40.966448091],[29.098391737,40.966461663],[29.098745473,40.966751194],[29.098747795,40.966810284],[29.098862878,40.966899334],[29.099149997,40.966636024],[29.098677835,40.966210952],[29.098392152,40.966448091]]],\"type\":\"Polygon\"},\"type\":\"Feature\",\"properties\":{\"tesis_adi\":\"Bar\\u0131\\u015f-1 Park\\u0131\",\"il_adi\":\"\\u0130STANBUL\",\"sokak_adi\":\"SARIKAYA\",\"ilce_adi\":\"KADIK\\u00d6Y\",\"mahalle_adi\":\"KOZYATA\\u011eI\",\"x\":29.09877327212694,\"y\":40.96654970399839,\"id\":151348125}},{\"geometry\":{\"coordinates\":[[[29.099384246,40.967275829],[29.099788708,40.967500426],[29.099776086,40.967552045],[29.099805227,40.967578378],[29.100533147,40.96756684],[29.100533602,40.967558101],[29.100524282,40.967551871],[29.099594374,40.967059649],[29.099384246,40.967275829]]],\"type\":\"Polygon\"},\"type\":\"Feature\",\"properties\":{\"tesis_adi\":\"Bar\\u0131\\u015f-2 Park\\u0131\",\"il_adi\":\"\\u0130STANBUL\",\"sokak_adi\":\"SARIKAYA\",\"ilce_adi\":\"KADIK\\u00d6Y\",\"mahalle_adi\":\"KOZYATA\\u011eI\",\"x\":29.099884280099353,\"y\":40.9673703755005,\"id\":151348126}},{\"geometry\":{\"coordinates\":[[[29.095576986,40.972112773],[29.095774635,40.972370165],[29.095815049,40.972406818],[29.095858548,40.972420977],[29.095896722,40.972410793],[29.095919547,40.972396678],[29.096578307,40.971965615],[29.096578746,40.971933457],[29.096529027,40.971891373],[29.096201999,40.972034079],[29.096057068,40.971870588],[29.095737692,40.972020821],[29.095707167,40.971992848],[29.095665969,40.972021597],[29.095400519,40.971892698],[29.095432373,40.971863714],[29.095384081,40.97183491],[29.095503026,40.971647462],[29.095544712,40.971578701],[29.09544657,40.971510807],[29.095382349,40.971498806],[29.09532737,40.971585196],[29.095180645,40.971537726],[29.095116509,40.971592968],[29.095057299,40.971645461],[29.095230739,40.97178232],[29.095377215,40.971913901],[29.095509762,40.97202523],[29.095576986,40.972112773]]],\"type\":\"Polygon\"},\"type\":\"Feature\",\"properties\":{\"tesis_adi\":\"Mehmet \\u00c7avu\\u015f Cami Bah\\u00e7esi\",\"il_adi\":\"\\u0130STANBUL\",\"sokak_adi\":\"SARIKAYA\",\"ilce_adi\":\"KADIK\\u00d6Y\",\"mahalle_adi\":\"KOZYATA\\u011eI\",\"x\":29.095800679469285,\"y\":40.9719997595665,\"id\":151348132}}],\"type\":\"FeatureCollection\"}\n"
     ]
    }
   ],
   "source": [
    "import http.client\n",
    "\n",
    "conn = http.client.HTTPSConnection(\"www.turkiye.gov.tr\")\n",
    "\n",
    "lat = 40.968987479586026\n",
    "long = 29.09703254699707\n",
    "payload = f\"pn=%2Fafet-ve-acil-durum-yonetimi-acil-toplanma-alani-sorgulama&ajax=1&token=%7B8844AA-F65463-0CBDF3-8DB466-53EE15-299C65-998E40-88FED7%7D&islem=getAlanlarForNokta&lat={lat}&lng={long}\"\n",
    "\n",
    "headers = {\n",
    "    'cookie': \"TS015d3f68=015c1cbb6dbcc72fca5e74782f2f1d43f19cfe27fcf0bf2a0f4931f59ccf25a51d6decb29b16c999670926d575d68a9e4d9672bdce\",\n",
    "    'Accept': \"application/json, text/javascript, */*; q=0.01\",\n",
    "    'Accept-Language': \"en-US,en;q=0.9\",\n",
    "    'Connection': \"keep-alive\",\n",
    "    'Content-Type': \"application/x-www-form-urlencoded; charset=UTF-8\",\n",
    "    'Cookie': \"w3p=3352537280.20480.0000; _uid=1732219586-384a1de9-4e26-4ca2-ab3d-ea0c7ce3dd86; ridbb=WyI1ZWZjYWJjN2E5YzNiY2M4ZDY4OWExMGIwN2IwMTcyMmNjZDc5NjUzYyJd; language=tr_TR.UTF-8; TURKIYESESSIONID=90k7bsik1et8uvgdobq8q9o84a; TS015d3f68=015c1cbb6d6517549d555723c865ac98a8422180c9aea6f92cc3ce55a059e3b5438d6e5059b8cf4ea08fa2ab858ecc5c6dfc81cdaa; _lastptts=1735386510\",\n",
    "    'Origin': \"https://www.turkiye.gov.tr\",\n",
    "    'Referer': \"https://www.turkiye.gov.tr/afet-ve-acil-durum-yonetimi-acil-toplanma-alani-sorgulama?harita=goster\",\n",
    "    'Sec-Fetch-Dest': \"empty\",\n",
    "    'Sec-Fetch-Mode': \"cors\",\n",
    "    'Sec-Fetch-Site': \"same-origin\",\n",
    "    'User-Agent': \"Mozilla/5.0 (Macintosh; Intel Mac OS X 10_15_7) AppleWebKit/537.36 (KHTML, like Gecko) Chrome/128.0.0.0 Safari/537.36 OPR/114.0.0.0\",\n",
    "    'X-Requested-With': \"XMLHttpRequest\",\n",
    "    'sec-ch-ua': '\"Chromium\";v=\"128\", \"Not;A=Brand\";v=\"24\", \"Opera\";v=\"114\"',\n",
    "    'sec-ch-ua-mobile': \"?0\",\n",
    "    'sec-ch-ua-platform': '\"macOS\"'\n",
    "    }\n",
    "\n",
    "conn.request(\"POST\", \"/afet-ve-acil-durum-yonetimi-acil-toplanma-alani-sorgulama?harita=goster&submit=\", payload, headers)\n",
    "\n",
    "#for request in \n",
    "\n",
    "res = conn.getresponse()\n",
    "data = res.read()\n",
    "\n",
    "print(data.decode(\"utf-8\"))"
   ]
  },
  {
   "cell_type": "code",
   "execution_count": 34,
   "metadata": {},
   "outputs": [],
   "source": [
    "import http.client\n",
    "import json\n",
    "import urllib.parse\n",
    "import re\n",
    "# bu fonksiyon websitesinden aldığımız curl bash commandini parametrelerine ayırıyor.\n",
    "def send_curl_request(curl_command):\n",
    "    # Extract the URL from the curl command\n",
    "    url_pattern = r\"curl '(.*?)'\"\n",
    "    match = re.search(url_pattern, curl_command)\n",
    "    if match:\n",
    "        url = match.group(1)\n",
    "    else:\n",
    "        raise ValueError(\"URL not found in the curl command\")\n",
    "\n",
    "    # Extract headers from the curl command\n",
    "    headers = {}\n",
    "    header_pattern = r\"-H '([^:]+): (.*?)'\"\n",
    "    for header_match in re.finditer(header_pattern, curl_command):\n",
    "        header_name = header_match.group(1)\n",
    "        header_value = header_match.group(2)\n",
    "        headers[header_name] = header_value\n",
    "\n",
    "    # Extract the data from the curl command\n",
    "    data_pattern = r\"--data-raw '(.*?)'\"\n",
    "    match = re.search(data_pattern, curl_command)\n",
    "    data = {}\n",
    "    if match:\n",
    "        data_string = match.group(1)\n",
    "        data_items = data_string.split(\"&\")\n",
    "        for item in data_items:\n",
    "            key, value = item.split(\"=\")\n",
    "            data[key] = urllib.parse.unquote(value)\n",
    "\n",
    "    # Parse URL to get the host and path\n",
    "    parsed_url = urllib.parse.urlparse(url)\n",
    "    host = parsed_url.netloc\n",
    "    path = parsed_url.path + \"?\" + parsed_url.query if parsed_url.query else parsed_url.path\n",
    "\n",
    "    return host, path, data, headers\n",
    "\n",
    "# Bu fonksiyon düzenlenmiş command'i kullanarak istek atıyor.\n",
    "def send_request(host, path, data, headers):\n",
    "    # Set up the connection\n",
    "    connection = http.client.HTTPSConnection(host)\n",
    "\n",
    "    # Send the POST request\n",
    "    connection.request(\"POST\", path, body=urllib.parse.urlencode(data), headers=headers)\n",
    "\n",
    "    # Get the response\n",
    "    response = connection.getresponse()\n",
    "    response_data = response.read().decode()\n",
    "\n",
    "    # Close the connection\n",
    "    connection.close()\n",
    "\n",
    "    # Check for a successful response and return the result\n",
    "    if response.status == 200:\n",
    "        return json.loads(response_data)\n",
    "    else:\n",
    "        return f\"Error: {response.status}, {response_data}\""
   ]
  },
  {
   "cell_type": "code",
   "execution_count": 36,
   "metadata": {},
   "outputs": [
    {
     "name": "stdout",
     "output_type": "stream",
     "text": [
      "{'features': [{'geometry': {'coordinates': [[[29.095576986, 40.972112773], [29.095774635, 40.972370165], [29.095815049, 40.972406818], [29.095858548, 40.972420977], [29.095896722, 40.972410793], [29.095919547, 40.972396678], [29.096578307, 40.971965615], [29.096578746, 40.971933457], [29.096529027, 40.971891373], [29.096201999, 40.972034079], [29.096057068, 40.971870588], [29.095737692, 40.972020821], [29.095707167, 40.971992848], [29.095665969, 40.972021597], [29.095400519, 40.971892698], [29.095432373, 40.971863714], [29.095384081, 40.97183491], [29.095503026, 40.971647462], [29.095544712, 40.971578701], [29.09544657, 40.971510807], [29.095382349, 40.971498806], [29.09532737, 40.971585196], [29.095180645, 40.971537726], [29.095116509, 40.971592968], [29.095057299, 40.971645461], [29.095230739, 40.97178232], [29.095377215, 40.971913901], [29.095509762, 40.97202523], [29.095576986, 40.972112773]]], 'type': 'Polygon'}, 'type': 'Feature', 'properties': {'tesis_adi': 'Mehmet Çavuş Cami Bahçesi', 'il_adi': 'İSTANBUL', 'sokak_adi': 'CEMİL AKDOĞAN', 'ilce_adi': 'KADIKÖY', 'mahalle_adi': 'KOZYATAĞI', 'x': 29.095800679469285, 'y': 40.9719997595665, 'id': 151348132}}, {'geometry': {'coordinates': [[[29.092932204, 40.968662964], [29.093422421, 40.96835043], [29.093496552, 40.968216166], [29.093315151, 40.968104194], [29.09328341, 40.968126816], [29.093293052, 40.9681333], [29.093250786, 40.968168014], [29.093266331, 40.968180525], [29.092953375, 40.968448233], [29.092944779, 40.96844307], [29.092916111, 40.968467226], [29.092757186, 40.968360445], [29.092591428, 40.968490491], [29.09259764, 40.968511666], [29.092580012, 40.968559414], [29.092550809, 40.968591866], [29.092877049, 40.968696837], [29.092891956, 40.968664077], [29.092932204, 40.968662964]]], 'type': 'Polygon'}, 'type': 'Feature', 'properties': {'tesis_adi': 'Şükran Karabelli İlkokulu Bahçesi', 'il_adi': 'İSTANBUL', 'sokak_adi': 'CEMİL AKDOĞAN', 'ilce_adi': 'KADIKÖY', 'mahalle_adi': 'KOZYATAĞI', 'x': 29.093033798522566, 'y': 40.96843423997954, 'id': 151348135}}, {'geometry': {'coordinates': [[[29.098392152, 40.966448091], [29.098391737, 40.966461663], [29.098745473, 40.966751194], [29.098747795, 40.966810284], [29.098862878, 40.966899334], [29.099149997, 40.966636024], [29.098677835, 40.966210952], [29.098392152, 40.966448091]]], 'type': 'Polygon'}, 'type': 'Feature', 'properties': {'tesis_adi': 'Barış-1 Parkı', 'il_adi': 'İSTANBUL', 'sokak_adi': 'CEMİL AKDOĞAN', 'ilce_adi': 'KADIKÖY', 'mahalle_adi': 'KOZYATAĞI', 'x': 29.09877327212694, 'y': 40.96654970399839, 'id': 151348125}}], 'type': 'FeatureCollection'}\n"
     ]
    }
   ],
   "source": [
    "\n",
    "# Example Usage\n",
    "curl_string = \"\"\"curl 'https://www.turkiye.gov.tr/afet-ve-acil-durum-yonetimi-acil-toplanma-alani-sorgulama?harita=goster&submit' \\\n",
    "  -H 'Accept: application/json, text/javascript, */*; q=0.01' \\\n",
    "  -H 'Accept-Language: en-US,en;q=0.9' \\\n",
    "  -H 'Connection: keep-alive' \\\n",
    "  -H 'Content-Type: application/x-www-form-urlencoded; charset=UTF-8' \\\n",
    "  -H 'Cookie: w3p=3352537280.20480.0000; _uid=1732219586-384a1de9-4e26-4ca2-ab3d-ea0c7ce3dd86; ridbb=WyI1ZWZjYWJjN2E5YzNiY2M4ZDY4OWExMGIwN2IwMTcyMmNjZDc5NjUzYyJd; language=tr_TR.UTF-8; TURKIYESESSIONID=90k7bsik1et8uvgdobq8q9o84a; TS015d3f68=015c1cbb6d86b32e495cb300dbf29b5b1920b56b9dd5d578c600adbc116dfe67ee45463024b1e6d1a2d636262754cee4845e2b36b2; _lastptts=1735469752' \\\n",
    "  -H 'Origin: https://www.turkiye.gov.tr' \\\n",
    "  -H 'Referer: https://www.turkiye.gov.tr/afet-ve-acil-durum-yonetimi-acil-toplanma-alani-sorgulama?harita=goster' \\\n",
    "  -H 'Sec-Fetch-Dest: empty' \\\n",
    "  -H 'Sec-Fetch-Mode: cors' \\\n",
    "  -H 'Sec-Fetch-Site: same-origin' \\\n",
    "  -H 'User-Agent: Mozilla/5.0 (Macintosh; Intel Mac OS X 10_15_7) AppleWebKit/537.36 (KHTML, like Gecko) Chrome/128.0.0.0 Safari/537.36 OPR/114.0.0.0' \\\n",
    "  -H 'X-Requested-With: XMLHttpRequest' \\\n",
    "  -H 'sec-ch-ua: \"Chromium\";v=\"128\", \"Not;A=Brand\";v=\"24\", \"Opera\";v=\"114\"' \\\n",
    "  -H 'sec-ch-ua-mobile: ?0' \\\n",
    "  -H 'sec-ch-ua-platform: \"macOS\"' \\\n",
    "  --data-raw 'pn=%2Fafet-ve-acil-durum-yonetimi-acil-toplanma-alani-sorgulama&ajax=1&token=%7B855093-DD3347-C756D5-5656DD-535E63-3A6D33-0C109B-10DD82%7D&islem=getAlanlarForNokta&lat=40.96908646316616&lng=29.095959663391117'\n",
    "  \"\"\"\n",
    "host, path, data, headers = send_curl_request(curl_string)\n",
    "result = send_request(host, path, data, headers)\n",
    "print(result)\n"
   ]
  },
  {
   "cell_type": "code",
   "execution_count": null,
   "metadata": {},
   "outputs": [],
   "source": []
  }
 ],
 "metadata": {
  "kernelspec": {
   "display_name": "venv",
   "language": "python",
   "name": "python3"
  },
  "language_info": {
   "codemirror_mode": {
    "name": "ipython",
    "version": 3
   },
   "file_extension": ".py",
   "mimetype": "text/x-python",
   "name": "python",
   "nbconvert_exporter": "python",
   "pygments_lexer": "ipython3",
   "version": "3.9.6"
  }
 },
 "nbformat": 4,
 "nbformat_minor": 2
}
