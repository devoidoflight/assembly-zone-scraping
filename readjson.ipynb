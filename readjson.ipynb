{
 "cells": [
  {
   "cell_type": "code",
   "execution_count": null,
   "metadata": {},
   "outputs": [],
   "source": [
    "import json\n",
    "\n",
    "# Open and read the JSON file\n",
    "with open('istanbul-admin-level-6.geojson', 'r') as file:\n",
    "    data = json.load(file)\n",
    "for i in data[\"features\"]:\n",
    "    if i[\"geometry\"].get(\"type\",\"unnamed\") != \"Point\":\n",
    "        name = i[\"properties\"].get(\"name\",\"point\")\n",
    "        type = i[\"geometry\"].get(\"type\",\"point\")\n",
    "        coordinates = i[\"geometry\"].get(\"coordinates\",\"point\")\n",
    "        print(\"Name:\", name)\n",
    "        print(\"Type:\", type)\n",
    "        print(\"Coordinates:\", coordinates)\n",
    "    else:\n",
    "        continue\n",
    "\n",
    "\n",
    "\n",
    "\n",
    "\n",
    "# Print the data\n",
    "#print(data)"
   ]
  },
  {
   "cell_type": "code",
   "execution_count": null,
   "metadata": {},
   "outputs": [],
   "source": []
  }
 ],
 "metadata": {
  "kernelspec": {
   "display_name": "venv",
   "language": "python",
   "name": "python3"
  },
  "language_info": {
   "codemirror_mode": {
    "name": "ipython",
    "version": 3
   },
   "file_extension": ".py",
   "mimetype": "text/x-python",
   "name": "python",
   "nbconvert_exporter": "python",
   "pygments_lexer": "ipython3",
   "version": "3.9.6"
  }
 },
 "nbformat": 4,
 "nbformat_minor": 2
}
